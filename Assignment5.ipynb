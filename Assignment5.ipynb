{
 "cells": [
  {
   "cell_type": "markdown",
   "metadata": {},
   "source": [
    "## Creating and polling a website\n",
    "\n",
    "This assignment trains you in \n",
    "1. installing and using a new Python framework\n",
    "2. running Python code from the terminal\n",
    "3. scrape web requests"
   ]
  },
  {
   "cell_type": "markdown",
   "metadata": {},
   "source": [
    "The code in this assignment is based on the [`requests`](http://docs.python-requests.org/en/master/) module and the [flask](https://anaconda.org/anaconda/flask) framework (see links). Don't forget to use Python 3 for the assignment. Scary things might happen if you don't"
   ]
  },
  {
   "cell_type": "markdown",
   "metadata": {},
   "source": [
    "## Part 1: Writing a server\n",
    "\n",
    "The first part of the assignment is to write a *very* simple server. \n",
    "It needs to do three things:\n",
    "\n",
    "1. Expose an HTTP POST method at `/`, that accepts and decodes a JSON data body. That is the only method you have to expose.\n",
    "2. Get the request JSON data (using `request.get_json()`) and assume it's a dictionary. Now extract the value inside the dictionary under the key `password`. We will call this password for `client_password`.\n",
    "3. Choose a two-letter password (in ASCII) that is fixed for the server. Just choose two random letters/numbers. We will call this password `SERVER_PASSWORD`. If the decoded value for the `password` field is the *same* as your chosen password (`client_password == SERVER_PASSWORD`), return an HTTP code `200 OK`. Otherwise return the HTTP code `403 Forbidden` status code. You don't have to return a body.\n",
    "\n",
    "Hand in:\n",
    "* The code for your server *copied into* a Jupyter Notebook\n",
    "  * This should not be much more than 20 lines of code"
   ]
  },
  {
   "cell_type": "code",
   "execution_count": 5,
   "metadata": {},
   "outputs": [],
   "source": [
    "#SERVER!!\n",
    "\n",
    "# Installer flask: \n",
    "# $ conda install -c anaconda flask\n",
    "# For at få programmet til at køre:\n",
    "# $ export FLASK_APP=server.py\n",
    "# $ export FLASK_ENV=development\n",
    "# $ flask run\n",
    "# * Running on http://127.0.0.1:5000/\n",
    "# (eller localhost:5000/) -> starter serveren på localhost\n",
    "# Brug eventuelt Postman til at køre requestene på\n",
    "# POST - http://127.0.0.1:5000/ - body - raw - json - {\"password\": \"acaca\"} (kig på response kode)\n",
    "# prøv med {\"password\": \"ac\"} og kig igen på response kode\n",
    "\n",
    "\n",
    "#server.py preview for lazy people\n",
    "from flask import Flask, request\n",
    "import json\n",
    "\n",
    "app = Flask(__name__)\n",
    "\n",
    "SERVER_PASSWORD = 'ac'\n",
    "\n",
    "@app.route('/', methods=['POST'])\n",
    "def funct():\n",
    "    data = request.get_data()\n",
    "    my_dict = json.loads(data)\n",
    "    CLIENT_PASSWORD = my_dict['password']\n",
    "    if CLIENT_PASSWORD == SERVER_PASSWORD:\n",
    "        response = app.response_class(status=200)\n",
    "    else:\n",
    "        response = app.response_class(status=403)\n",
    "    return response"
   ]
  },
  {
   "cell_type": "markdown",
   "metadata": {},
   "source": [
    "## Part 2: Hack the server!\n",
    "\n",
    "Now we want to hack the server. But not just hack it once. We want to *automate* hacking the server!\n",
    "Before you start on this part, make sure your server from part 1 is running.\n",
    "\n",
    "1. Find a list of all the possible ASCII characters in Python (hint: look in the `string` module)\n",
    "2. Generate *all possible combinations* of two ASCII characters and save them into the variable `\n",
    "  * This will be 52 * 52 = 2704 elements. If you're smart you can create this as a generator\n",
    "3. Write a method that takes a string `password` as its input, calls your server from part 1 (running on localhost), and *return* the status code of the request. Make sure that you:\n",
    "  * Call the website at the correct port and URL with the correct HTTP verb\n",
    "  * Inject data correctly. Remember that the body should be a `str` containing a JSON dictionary\n",
    "4. Use your list of combinations from step 2 to call the sever 2704 times and find out when the status code it 200. When that happened you cracked the code!\n",
    "\n",
    "Hand in:\n",
    "  * The code for your hack in your Jupyter Notebook\n",
    "  * The password you found"
   ]
  },
  {
   "cell_type": "code",
   "execution_count": null,
   "metadata": {},
   "outputs": [
    {
     "name": "stdout",
     "output_type": "stream",
     "text": [
      "aa\n",
      "ab\n"
     ]
    }
   ],
   "source": [
    "%%timeit\n",
    "import multiprocessing\n",
    "import string\n",
    "import requests\n",
    "import json\n",
    "\n",
    "\n",
    "letters_and_numbers = list(string.ascii_letters)+list(string.digits)\n",
    "# uden digits\n",
    "# letters_and_numbers = list(string.ascii_letters)\n",
    "\n",
    "\n",
    "string_list = []\n",
    "\n",
    "for ln1 in letters_and_numbers:\n",
    "    for ln2 in letters_and_numbers:\n",
    "        string_list.append(str(ln1+ln2))\n",
    "\n",
    "url = \"http://localhost:5000/\"\n",
    "\n",
    "def call_server(password):\n",
    "    jsonstr = json.dumps({ 'password' : password })\n",
    "    r = requests.post(url, data=jsonstr)\n",
    "    if r.status_code == 200:\n",
    "        print('success')\n",
    "        return password\n",
    "    else:\n",
    "        return ''    \n",
    "\n",
    "right_pw = ''\n",
    "for password in string_list[:]:\n",
    "    p = multiprocessing.Process(target=call_server, args=(password,))\n",
    "    p.start\n",
    "    right_pw = call_server(password)\n",
    "    print(password)\n",
    "    if right_pw != '':\n",
    "        break\n",
    "        \n",
    "print(right_pw)"
   ]
  },
  {
   "cell_type": "markdown",
   "metadata": {},
   "source": [
    "passwords and timeit: \n",
    "ac (3.05 s ± 10.6 ms per loop (mean ± std. dev. of 7 runs, 1 loop each))\n",
    "0Z ()"
   ]
  },
  {
   "cell_type": "markdown",
   "metadata": {},
   "source": [
    "## Part 3 (optional): Make it go fast!\n",
    "\n",
    "This was probably pretty slow, because we made ~2704 sequential requests. Now implement this asynchronously by using\n",
    "a pool like this:\n",
    "```python\n",
    "from multiprocessing import Pool\n",
    "pool = Pool(processes=12)\n",
    "```\n",
    "\n",
    "Hand in:\n",
    "* The code for parallelising your server hacking\n",
    "* The runtimes of the sequential and parallel version using `%%timeit`"
   ]
  },
  {
   "cell_type": "code",
   "execution_count": null,
   "metadata": {},
   "outputs": [],
   "source": []
  }
 ],
 "metadata": {
  "kernelspec": {
   "display_name": "Python 3",
   "language": "python",
   "name": "python3"
  }
 },
 "nbformat": 4,
 "nbformat_minor": 2
}
